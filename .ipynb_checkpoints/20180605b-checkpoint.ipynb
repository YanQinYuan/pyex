{
 "cells": [
  {
   "cell_type": "code",
   "execution_count": 32,
   "metadata": {},
   "outputs": [
    {
     "data": {
      "text/plain": [
       "112451"
      ]
     },
     "execution_count": 32,
     "metadata": {},
     "output_type": "execute_result"
    }
   ],
   "source": [
    "# python 常用模块\n",
    "# 返回数字的绝对值\n",
    "abs(-112451)"
   ]
  },
  {
   "cell_type": "code",
   "execution_count": 43,
   "metadata": {},
   "outputs": [
    {
     "data": {
      "text/plain": [
       "(4, 0)"
      ]
     },
     "execution_count": 43,
     "metadata": {},
     "output_type": "execute_result"
    }
   ],
   "source": [
    "# 返回值和余数\n",
    "divmod(7,2)\n",
    "divmod(8,2)"
   ]
  },
  {
   "cell_type": "code",
   "execution_count": 45,
   "metadata": {},
   "outputs": [
    {
     "name": "stdout",
     "output_type": "stream",
     "text": [
      "runood\n"
     ]
    }
   ],
   "source": [
    "# @staticmethod 声明静态方法\n",
    "class c(object):\n",
    "    @staticmethod\n",
    "    def df():\n",
    "        print('runood')\n",
    "\n",
    "c.df() # 静态方法无需实例化调用"
   ]
  },
  {
   "cell_type": "code",
   "execution_count": 48,
   "metadata": {},
   "outputs": [
    {
     "data": {
      "text/plain": [
       "False"
      ]
     },
     "execution_count": 48,
     "metadata": {},
     "output_type": "execute_result"
    }
   ],
   "source": [
    "# all(iterable) 判断参数中所有元素是否都为true\n",
    "all([0,1,2,3,4])"
   ]
  },
  {
   "cell_type": "code",
   "execution_count": 50,
   "metadata": {},
   "outputs": [
    {
     "data": {
      "text/plain": [
       "False"
      ]
     },
     "execution_count": 50,
     "metadata": {},
     "output_type": "execute_result"
    }
   ],
   "source": [
    "all(['a','b','','c'])"
   ]
  },
  {
   "cell_type": "code",
   "execution_count": 55,
   "metadata": {},
   "outputs": [
    {
     "data": {
      "text/plain": [
       "[(10, 'Spring'), (11, 'Summer'), (12, 'fall'), (13, 'winter')]"
      ]
     },
     "execution_count": 55,
     "metadata": {},
     "output_type": "execute_result"
    }
   ],
   "source": [
    "# enumerate(iterable) 将一个参数组合为索引数列\n",
    "seasons = ['Spring','Summer','fall','winter']\n",
    "[i for i in enumerate(seasons)]\n",
    "list(enumerate(seasons,start=10))"
   ]
  },
  {
   "cell_type": "code",
   "execution_count": 59,
   "metadata": {},
   "outputs": [
    {
     "name": "stdout",
     "output_type": "stream",
     "text": [
      "0 one\n",
      "1 two\n",
      "2 three\n"
     ]
    }
   ],
   "source": [
    "i = 0\n",
    "seq = ['one','two','three']\n",
    "for i,elememnt in enumerate(seq):\n",
    "    print(i,seq[i])"
   ]
  },
  {
   "cell_type": "code",
   "execution_count": 62,
   "metadata": {},
   "outputs": [
    {
     "data": {
      "text/plain": [
       "'\\x01'"
      ]
     },
     "execution_count": 62,
     "metadata": {},
     "output_type": "execute_result"
    }
   ],
   "source": [
    "ord('a')\n",
    "chr(1)"
   ]
  },
  {
   "cell_type": "code",
   "execution_count": 68,
   "metadata": {},
   "outputs": [
    {
     "data": {
      "text/plain": [
       "12"
      ]
     },
     "execution_count": 68,
     "metadata": {},
     "output_type": "execute_result"
    }
   ],
   "source": [
    "# class int(x, base=10) int() 函数用于将一个字符串或数字转换为整型。 x -- 字符串或数字。\n",
    "# base -- 进制数，默认十进制。\n",
    "int(\"12\")"
   ]
  },
  {
   "cell_type": "code",
   "execution_count": 72,
   "metadata": {},
   "outputs": [
    {
     "data": {
      "text/plain": [
       "True"
      ]
     },
     "execution_count": 72,
     "metadata": {},
     "output_type": "execute_result"
    }
   ],
   "source": [
    "# any() 与all 相对，判断iterable是否全部为False,如果有一个为True，则返回 True\n",
    "any(['a',0,False,''])"
   ]
  },
  {
   "cell_type": "code",
   "execution_count": 74,
   "metadata": {},
   "outputs": [
    {
     "data": {
      "text/plain": [
       "21"
      ]
     },
     "execution_count": 74,
     "metadata": {},
     "output_type": "execute_result"
    }
   ],
   "source": [
    "# eval() 函数用来执行一个字符串表达式，并返回表达式的值。\n",
    "eval('3*7')"
   ]
  },
  {
   "cell_type": "code",
   "execution_count": 78,
   "metadata": {},
   "outputs": [
    {
     "data": {
      "text/plain": [
       "True"
      ]
     },
     "execution_count": 78,
     "metadata": {},
     "output_type": "execute_result"
    }
   ],
   "source": [
    "#　isinstance type isinstance考虑继承\n",
    "# isinstance(object,classinfo)\n",
    "\n",
    "isinstance(123,(int,str,list))"
   ]
  },
  {
   "cell_type": "code",
   "execution_count": 81,
   "metadata": {},
   "outputs": [
    {
     "data": {
      "text/plain": [
       "0.0001"
      ]
     },
     "execution_count": 81,
     "metadata": {},
     "output_type": "execute_result"
    }
   ],
   "source": [
    "pow(100,-2)"
   ]
  },
  {
   "cell_type": "code",
   "execution_count": 83,
   "metadata": {},
   "outputs": [
    {
     "data": {
      "text/plain": [
       "25"
      ]
     },
     "execution_count": 83,
     "metadata": {},
     "output_type": "execute_result"
    }
   ],
   "source": [
    "sum([1,2,3,4,5,],10)"
   ]
  },
  {
   "cell_type": "code",
   "execution_count": 85,
   "metadata": {},
   "outputs": [],
   "source": [
    "#execfile(filename[,globals[,locals]]) # 执行一个文件"
   ]
  },
  {
   "cell_type": "code",
   "execution_count": 94,
   "metadata": {},
   "outputs": [
    {
     "data": {
      "text/plain": [
       "True"
      ]
     },
     "execution_count": 94,
     "metadata": {},
     "output_type": "execute_result"
    }
   ],
   "source": [
    "class A(object):\n",
    "    pass\n",
    "class B(A):\n",
    "    pass\n",
    "issubclass(B,object) # issubclass(class,classinfo)判断参数是否是classinfo的子类"
   ]
  },
  {
   "cell_type": "code",
   "execution_count": 98,
   "metadata": {
    "scrolled": true
   },
   "outputs": [
    {
     "name": "stdout",
     "output_type": "stream",
     "text": [
      "Parent\n",
      "child\n",
      "helloWorld! from Parent123\n",
      "Child bar fuction\n",
      "I 'm the parent a\n"
     ]
    }
   ],
   "source": [
    "# super()可以调用父类的方法，super().xxx  xxx--方法名称\n",
    "class FooParent(object):\n",
    "    def __init__(self):\n",
    "        self.parent = 'I \\'m the parent a'\n",
    "        print('Parent')\n",
    "    def bar(self,message):\n",
    "        print(\"%s from Parent123\" % message)\n",
    "class FooChild(FooParent):\n",
    "    def __init__(self):\n",
    "        super(FooChild,self).__init__()\n",
    "        print('child')\n",
    "    def bar(self, message):\n",
    "        super(FooChild,self).bar(message)\n",
    "        print('Child bar fuction')\n",
    "        print(self.parent)\n",
    "fooChild = FooChild()\n",
    "fooChild.bar(\"helloWorld!\")"
   ]
  },
  {
   "cell_type": "code",
   "execution_count": 108,
   "metadata": {},
   "outputs": [
    {
     "name": "stdout",
     "output_type": "stream",
     "text": [
      "i am getx\n"
     ]
    }
   ],
   "source": [
    "#　@property\n",
    "class C(object):\n",
    "    def __init__(self):\n",
    "        self._x = None\n",
    "    def getx(self):\n",
    "        print(\"i am getx\")\n",
    "        return self._x\n",
    "    def setx(self,value):\n",
    "        self._x = 'value123'\n",
    "    def delx(self):\n",
    "        del self._x\n",
    "    x = property(getx,setx,delx,\"i 'm groot \")\n",
    "c = C()\n",
    "c.x # 触发 getx\n",
    "c.x = 'value123' #触发 setx\n",
    "del c.x # 触发 delx\n"
   ]
  },
  {
   "cell_type": "code",
   "execution_count": 121,
   "metadata": {},
   "outputs": [
    {
     "name": "stdout",
     "output_type": "stream",
     "text": [
      "10000\n",
      "sad\n",
      "delete success!\n"
     ]
    }
   ],
   "source": [
    "class Parrot(object):\n",
    "    def __init__(self):\n",
    "        self._voltage = 10000\n",
    "    @property\n",
    "    def voltage(self):\n",
    "        \"\"\"get the current voltage\"\"\"\n",
    "        return self._voltage\n",
    "    @voltage.setter\n",
    "    def voltage(self,value):\n",
    "        self._voltage = value\n",
    "        print(self._voltage)\n",
    "    @voltage.deleter\n",
    "    def voltage(self):\n",
    "        del self._voltage\n",
    "        print(\"delete success!\")\n",
    "p = Parrot()\n",
    "print(p.voltage)\n",
    "p.voltage = \"sad\"\n",
    "del p.voltage\n",
    "# 总结：@property可以把方法设置成只读属性，相当于get，该属性拥有set，del等方法，也可以通过x.setter等进行设置\n"
   ]
  }
 ],
 "metadata": {
  "kernelspec": {
   "display_name": "Python 3",
   "language": "python",
   "name": "python3"
  },
  "language_info": {
   "codemirror_mode": {
    "name": "ipython",
    "version": 3
   },
   "file_extension": ".py",
   "mimetype": "text/x-python",
   "name": "python",
   "nbconvert_exporter": "python",
   "pygments_lexer": "ipython3",
   "version": "3.6.2"
  }
 },
 "nbformat": 4,
 "nbformat_minor": 2
}
